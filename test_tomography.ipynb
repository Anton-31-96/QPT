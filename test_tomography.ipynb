{
 "cells": [
  {
   "cell_type": "code",
   "execution_count": null,
   "metadata": {},
   "outputs": [],
   "source": [
    "# -*- coding: utf-8 -*-\n",
    "\"\"\"\n",
    "Test Quantum State and Tomography routines\n",
    "\"\"\"\n",
    "\n",
    "import numpy as np\n",
    "import numpy.linalg as LA\n",
    "import matplotlib.pyplot as plt\n",
    "\n",
    "import channels as ch\n",
    "import tomography as tmg\n",
    "\n",
    "\n",
    "\n",
    "\n",
    "# prepare channel\n",
    "p = 0.1\n",
    "channel = lambda rho: ch.depolarize_channel(rho, p)\n",
    "C_true = ch.channel_to_choi(channel)\n",
    "\n",
    "\n",
    "# Experimental Setup. We will measure and prepare states in tetrahedron axis\n",
    "PREPARE_CASE = 'tetr'\n",
    "MEASURE_CASE = 'tetr'\n",
    "\n",
    "\n",
    "# Number of qubit copies for each axis\n",
    "# N = 10000\n",
    "N_list = [100, 200, 500, 700, 1000, 1500]#, 2000, 5000, 7000]\n",
    "\n",
    "\n",
    "\"\"\"\n",
    "How perfomance of LI method depends on number of copies of initial states\n",
    "\"\"\"\n",
    "\n",
    "PROTOCOL = np.matrix(tmg.protocol_QPT(prepare_case=PREPARE_CASE, measure_case=MEASURE_CASE))\n",
    "\n",
    "# arrays of different distances for average values storage\n",
    "tr_dist_val_av  = []\n",
    "hs_dist_val_av  = []\n",
    "fro_dist_val_av = []\n",
    "\n",
    "tr_dist_val_pr_av  = []\n",
    "hs_dist_val_pr_av  = []\n",
    "fro_dist_val_pr_av = []\n",
    "\n",
    "rep_numb = 50 # number of repetitions of experiment (for smooth results)\n",
    "for i in range(rep_numb):\n",
    "    C_est_list = []\n",
    "    for n in N_list:\n",
    "\n",
    "        # collect experimental data\n",
    "        frequencies = tmg.measurements(channel, prepare_case=PREPARE_CASE, measure_case=MEASURE_CASE, N = n).reshape(-1,1)\n",
    "\n",
    "        # recover C_est\n",
    "        C_est_LI = ((PROTOCOL.H @ PROTOCOL).I @ PROTOCOL.H) @ frequencies\n",
    "        C_est_LI = C_est_LI.reshape(4,4)\n",
    "        C_est_list.append(C_est_LI)\n",
    "\n",
    "\n",
    "    # arrays of different distances\n",
    "    tr_dist_val = []\n",
    "    hs_dist_val = []\n",
    "    fro_dist_val = []\n",
    "\n",
    "    tr_dist_val_pr = []\n",
    "    hs_dist_val_pr = []\n",
    "    fro_dist_val_pr = []\n",
    "\n",
    "    for C in C_est_list:\n",
    "        fro_dist_val.append(LA.norm(C - C_true))\n",
    "        fro_dist_val_pr.append(LA.norm(tmg.CPTP_proj(C) - C_true))\n",
    "        hs_dist_val.append(tmg.hs_dist(C, C_true))\n",
    "        hs_dist_val_pr.append(tmg.hs_dist(tmg.CPTP_proj(C), C_true))\n",
    "        tr_dist_val.append(tmg.tr_dist(C, C_true))\n",
    "        tr_dist_val_pr.append(tmg.tr_dist(tmg.CPTP_proj(C), C_true))\n",
    "\n",
    "    fro_dist_val_av.append(fro_dist_val)\n",
    "    fro_dist_val_pr_av.append(fro_dist_val_pr)\n",
    "    hs_dist_val_av.append(hs_dist_val)\n",
    "    hs_dist_val_pr_av.append(hs_dist_val_pr)\n",
    "    tr_dist_val_av.append(tr_dist_val)\n",
    "    tr_dist_val_pr_av.append(tr_dist_val_pr)\n",
    "\n",
    "# convert lists in arrays\n",
    "tr_dist_val_av  = np.array(tr_dist_val_av)\n",
    "hs_dist_val_av  = np.array(hs_dist_val_av)\n",
    "fro_dist_val_av = np.array(fro_dist_val_av)\n",
    "\n",
    "tr_dist_val_pr_av  = np.array(tr_dist_val_pr_av)\n",
    "tr_dist_val_pr_av  = np.array(tr_dist_val_pr_av)\n",
    "fro_dist_val_pr_av = np.array(fro_dist_val_pr_av)\n",
    "\n",
    "\n",
    "# compute mean values for every array\n",
    "tr_dist_val_av  = np.mean(tr_dist_val_av, axis = 0)\n",
    "hs_dist_val_av  = np.mean(hs_dist_val_av, axis = 0)\n",
    "fro_dist_val_av = np.mean(fro_dist_val_av, axis = 0)\n",
    "\n",
    "tr_dist_val_pr_av = np.mean(tr_dist_val_pr_av,  axis=0)\n",
    "hs_dist_val_pr_av = np.mean(hs_dist_val_pr_av,  axis=0)\n",
    "fro_dist_val_pr_av = np.mean(fro_dist_val_pr_av, axis=0)\n",
    "\n",
    "\n",
    "\n",
    "\n",
    "# # Plot the perfomance of Pseudo-Inverse matrix method (without projection on CPTP set)\n",
    "\n",
    "# plt.figure(figsize=(8,6))\n",
    "# plt.semilogx(N_list, tr_dist_val_av,  label= 'Trace distance',           marker='o')\n",
    "# plt.semilogx(N_list, hs_dist_val_av,  label= 'Hilbert Schmidt distance', marker= '>')\n",
    "# plt.semilogx(N_list, fro_dist_val_av, label= 'Frobenius norm',           marker='x')\n",
    "\n",
    "# plt.xlabel('Number of copies')\n",
    "# plt.ylabel('Error')\n",
    "# plt.title('Perfomance of Pseudo-Inverse Matrix Method')\n",
    "# plt.legend()\n",
    "# plt.show()\n",
    "\n",
    "\n",
    "#%%\n",
    "\n",
    "# arrays of different distances for average values storage\n",
    "ml_tr_dist_val_av  = []\n",
    "ml_hs_dist_val_av  = []\n",
    "ml_fro_dist_val_av = []\n",
    "\n",
    "ml_tr_dist_val_pr_av  = []\n",
    "ml_hs_dist_val_pr_av  = []\n",
    "ml_fro_dist_val_pr_av = []\n",
    "\n",
    "\n",
    "for i in range(rep_numb):\n",
    "    C_est_list = []\n",
    "    for n in N_list:\n",
    "\n",
    "        # collect experimental data\n",
    "        frequencies = tmg.measurements(channel, prepare_case=PREPARE_CASE, measure_case=MEASURE_CASE, N = n).reshape(-1,1)\n",
    "\n",
    "        # recover C_est\n",
    "        C_est_ML = tmg.grad_descent(frequencies.reshape(-1,1), PROTOCOL)[-1]\n",
    "        C_est_ML = C_est_ML.reshape(4,4)\n",
    "        C_est_list.append(C_est_ML)\n",
    "\n",
    "\n",
    "    # arrays of different distances\n",
    "    ml_tr_dist_val = []\n",
    "    ml_hs_dist_val = []\n",
    "    ml_fro_dist_val = []\n",
    "\n",
    "    ml_tr_dist_val_pr = []\n",
    "    ml_hs_dist_val_pr = []\n",
    "    ml_fro_dist_val_pr = []\n",
    "\n",
    "    for C in C_est_list:\n",
    "        ml_fro_dist_val.append(LA.norm(C - C_true))\n",
    "        ml_fro_dist_val_pr.append(LA.norm(tmg.CPTP_proj(C) - C_true))\n",
    "        ml_hs_dist_val.append(tmg.hs_dist(C, C_true))\n",
    "        ml_hs_dist_val_pr.append(tmg.hs_dist(tmg.CPTP_proj(C), C_true))\n",
    "        ml_tr_dist_val.append(tmg.tr_dist(C, C_true))\n",
    "        ml_tr_dist_val_pr.append(tmg.tr_dist(tmg.CPTP_proj(C), C_true))\n",
    "\n",
    "    ml_fro_dist_val_av.append(ml_fro_dist_val)\n",
    "    ml_fro_dist_val_pr_av.append(ml_fro_dist_val_pr)\n",
    "    ml_hs_dist_val_av.append(ml_hs_dist_val)\n",
    "    ml_hs_dist_val_pr_av.append(ml_hs_dist_val_pr)\n",
    "    ml_tr_dist_val_av.append(ml_tr_dist_val)\n",
    "    ml_tr_dist_val_pr_av.append(ml_tr_dist_val_pr)\n",
    "\n",
    "# convert lists in arrays\n",
    "ml_tr_dist_val_av  = np.array(ml_tr_dist_val_av)\n",
    "ml_hs_dist_val_av  = np.array(ml_hs_dist_val_av)\n",
    "ml_fro_dist_val_av = np.array(ml_fro_dist_val_av)\n",
    "\n",
    "ml_tr_dist_val_pr_av  = np.array(ml_tr_dist_val_pr_av)\n",
    "ml_tr_dist_val_pr_av  = np.array(ml_tr_dist_val_pr_av)\n",
    "ml_fro_dist_val_pr_av = np.array(ml_fro_dist_val_pr_av)\n",
    "\n",
    "\n",
    "# compute mean values for every array\n",
    "ml_tr_dist_val_av  = np.mean(ml_tr_dist_val_av, axis = 0)\n",
    "ml_hs_dist_val_av  = np.mean(ml_hs_dist_val_av, axis = 0)\n",
    "ml_fro_dist_val_av = np.mean(ml_fro_dist_val_av, axis = 0)\n",
    "\n",
    "ml_tr_dist_val_pr_av  = np.mean(ml_tr_dist_val_pr_av,  axis=0)\n",
    "ml_hs_dist_val_pr_av  = np.mean(ml_hs_dist_val_pr_av,  axis=0)\n",
    "ml_fro_dist_val_pr_av = np.mean(ml_fro_dist_val_pr_av, axis=0)"
   ]
  },
  {
   "cell_type": "code",
   "execution_count": 2,
   "metadata": {},
   "outputs": [
    {
     "data": {
      "image/png": "[encoded data removed]",
      "text/plain": [
       "<Figure size 720x864 with 3 Axes>"
      ]
     },
     "metadata": {
      "needs_background": "light"
     },
     "output_type": "display_data"
    }
   ],
   "source": [
    "plt.figure(figsize=(10,12))\n",
    "plt.subplot(311)\n",
    "plt.xlabel('Number of copies')\n",
    "plt.ylabel('Error')\n",
    "plt.title('Comparisson of Method')\n",
    "plt.semilogx(N_list, ml_tr_dist_val_pr_av,  label= 'ML Trace distance',           marker='o')\n",
    "plt.semilogx(N_list, tr_dist_val_pr_av,  label= 'LI Trace distance',           marker='o')\n",
    "plt.legend()\n",
    "\n",
    "plt.subplot(312)\n",
    "plt.xlabel('Number of copies')\n",
    "plt.ylabel('Error')\n",
    "# plt.title('Comparisson of methods Method')\n",
    "plt.semilogx(N_list, ml_hs_dist_val_pr_av,  label= 'ML Hilbert Schmidt distance', marker= '>')\n",
    "plt.semilogx(N_list, hs_dist_val_pr_av,  label= 'LI Hilbert Schmidt distance', marker= '>')\n",
    "plt.legend()\n",
    "\n",
    "plt.subplot(313)\n",
    "plt.semilogx(N_list, ml_fro_dist_val_pr_av, label= 'ML Frobenius norm',           marker='x')\n",
    "plt.semilogx(N_list, fro_dist_val_pr_av, label= 'LI Frobenius norm',           marker='x')\n",
    "\n",
    "plt.xlabel('Number of copies')\n",
    "plt.ylabel('Error')\n",
    "# plt.title('Comparisson of methods Method')\n",
    "plt.legend()\n",
    "plt.show()"
   ]
  },
  {
   "cell_type": "code",
   "execution_count": 3,
   "metadata": {},
   "outputs": [],
   "source": [
    "import numpy as np\n",
    "import numpy.linalg as LA\n",
    "import matplotlib.pyplot as plt\n",
    "\n",
    "import channels as ch\n",
    "import tomography as tmg\n",
    "\n",
    "\n",
    "# prepare channel\n",
    "p = 0.\n",
    "# channel = lambda rho: ch.depolarize_channel(rho, p)\n",
    "channel = lambda rho: ch.gate_action(rho, 'X')\n",
    "C_true = ch.channel_to_choi(channel)\n",
    "\n",
    "\n",
    "# Experimental Setup. We will measure and prepare states in tetrahedron axis\n",
    "PREPARE_CASE = 'tetr'\n",
    "MEASURE_CASE = 'tetr'\n",
    "\n",
    "PROTOCOL = np.matrix(tmg.protocol_QPT(prepare_case=PREPARE_CASE, measure_case=MEASURE_CASE))\n",
    "n = 1000\n",
    "\n",
    "# collect experimental data\n",
    "frequencies = tmg.measurements(channel, prepare_case=PREPARE_CASE, measure_case=MEASURE_CASE, N = n).reshape(-1,1)\n",
    "\n",
    "# recover C_est via linear inversion\n",
    "C_est_LI = ((PROTOCOL.H @ PROTOCOL).I @ PROTOCOL.H) @ frequencies\n",
    "C_est_LI = tmg.CPTP_proj(C_est_LI).reshape(4,4)\n",
    "\n",
    "\n",
    "# recover C_est via gradient descend\n",
    "C_list = tmg.grad_descent(frequencies.reshape(-1,1), PROTOCOL)\n",
    "C_est_ML = C_list[-1]\n",
    "C_est_ML = C_est_ML.reshape(4,4)"
   ]
  },
  {
   "cell_type": "code",
   "execution_count": 4,
   "metadata": {},
   "outputs": [
    {
     "name": "stdout",
     "output_type": "stream",
     "text": [
      "True channel:\n",
      " [[0.+0.j 0.+0.j 0.+0.j 0.+0.j]\n",
      " [0.+0.j 1.+0.j 1.+0.j 0.+0.j]\n",
      " [0.+0.j 1.+0.j 1.+0.j 0.+0.j]\n",
      " [0.+0.j 0.+0.j 0.+0.j 0.+0.j]] \n",
      "\n",
      "LI recovery:\n",
      " [[ 0.012+0.j    -0.019+0.015j -0.026+0.005j -0.005+0.011j]\n",
      " [-0.019-0.015j  0.988-0.j     0.982+0.018j  0.026-0.005j]\n",
      " [-0.026-0.005j  0.982-0.018j  0.988-0.j     0.019-0.015j]\n",
      " [-0.005-0.011j  0.026+0.005j  0.019+0.015j  0.012+0.j   ]] \n",
      "\n",
      "ML recovery:\n",
      " [[ 0.001-0.j    -0.023+0.011j -0.023+0.01j  -0.   +0.j   ]\n",
      " [-0.023-0.011j  0.999-0.j     0.999+0.019j  0.023-0.01j ]\n",
      " [-0.023-0.01j   0.999-0.019j  0.999-0.j     0.023-0.011j]\n",
      " [-0.   -0.j     0.023+0.01j   0.023+0.011j  0.001+0.j   ]] \n",
      "\n",
      "0.08656730570875056\n",
      "0.07722236416246651\n"
     ]
    }
   ],
   "source": [
    "print('True channel:\\n', np.around(C_true, decimals=3),   '\\n')\n",
    "print('LI recovery:\\n',  np.around(C_est_LI, decimals=3), '\\n')\n",
    "print('ML recovery:\\n',  np.around(C_est_ML, decimals=3), '\\n')\n",
    "\n",
    "print(LA.norm(C_true - C_est_LI))\n",
    "print(LA.norm(C_true - C_est_ML))"
   ]
  },
  {
   "cell_type": "code",
   "execution_count": 7,
   "metadata": {},
   "outputs": [
    {
     "name": "stdout",
     "output_type": "stream",
     "text": [
      "1.44 ms ± 75.3 µs per loop (mean ± std. dev. of 7 runs, 100 loops each)\n"
     ]
    }
   ],
   "source": [
    "%%timeit\n",
    "frequencies = tmg.measurements(channel, prepare_case=PREPARE_CASE, measure_case=MEASURE_CASE, N = 1000).reshape(-1,1)"
   ]
  },
  {
   "cell_type": "code",
   "execution_count": 8,
   "metadata": {},
   "outputs": [
    {
     "name": "stdout",
     "output_type": "stream",
     "text": [
      "1.18 ms ± 53.1 µs per loop (mean ± std. dev. of 7 runs, 1000 loops each)\n"
     ]
    }
   ],
   "source": [
    "%%timeit\n",
    "tmg.protocol_QPT()"
   ]
  },
  {
   "cell_type": "code",
   "execution_count": 9,
   "metadata": {},
   "outputs": [
    {
     "name": "stdout",
     "output_type": "stream",
     "text": [
      "11.1 µs ± 297 ns per loop (mean ± std. dev. of 7 runs, 100000 loops each)\n"
     ]
    }
   ],
   "source": [
    "%%timeit\n",
    "tmg.current_probability(C_true, PROTOCOL)"
   ]
  },
  {
   "cell_type": "code",
   "execution_count": 11,
   "metadata": {},
   "outputs": [],
   "source": [
    "curr_prob = tmg.current_probability(C_true, PROTOCOL)"
   ]
  },
  {
   "cell_type": "code",
   "execution_count": 12,
   "metadata": {},
   "outputs": [
    {
     "name": "stdout",
     "output_type": "stream",
     "text": [
      "13.5 µs ± 1.29 µs per loop (mean ± std. dev. of 7 runs, 10000 loops each)\n"
     ]
    }
   ],
   "source": [
    "%%timeit\n",
    "tmg.cost(C_true, frequencies, curr_prob)"
   ]
  },
  {
   "cell_type": "code",
   "execution_count": 13,
   "metadata": {},
   "outputs": [
    {
     "name": "stdout",
     "output_type": "stream",
     "text": [
      "35.8 µs ± 1.74 µs per loop (mean ± std. dev. of 7 runs, 10000 loops each)\n"
     ]
    }
   ],
   "source": [
    "%%timeit\n",
    "tmg.gradient(C_true, PROTOCOL, frequencies, curr_prob)"
   ]
  },
  {
   "cell_type": "code",
   "execution_count": 5,
   "metadata": {},
   "outputs": [
    {
     "name": "stdout",
     "output_type": "stream",
     "text": [
      "87.4 ms ± 1.91 ms per loop (mean ± std. dev. of 7 runs, 10 loops each)\n"
     ]
    }
   ],
   "source": [
    "%%timeit \n",
    "tmg.grad_descent(frequencies, PROTOCOL)"
   ]
  },
  {
   "cell_type": "code",
   "execution_count": 6,
   "metadata": {},
   "outputs": [
    {
     "name": "stdout",
     "output_type": "stream",
     "text": [
      "5.92 ms ± 188 µs per loop (mean ± std. dev. of 7 runs, 100 loops each)\n"
     ]
    }
   ],
   "source": [
    "%%timeit\n",
    "C_est_LI = ((PROTOCOL.H @ PROTOCOL).I @ PROTOCOL.H) @ frequencies\n",
    "C_est_LI = tmg.CPTP_proj(C_est_LI).reshape(4,4)"
   ]
  },
  {
   "cell_type": "code",
   "execution_count": null,
   "metadata": {},
   "outputs": [],
   "source": []
  },
  {
   "cell_type": "code",
   "execution_count": null,
   "metadata": {},
   "outputs": [],
   "source": []
  },
  {
   "cell_type": "code",
   "execution_count": null,
   "metadata": {},
   "outputs": [],
   "source": []
  }
 ],
 "metadata": {
  "kernelspec": {
   "display_name": "Python 3",
   "language": "python",
   "name": "python3"
  },
  "language_info": {
   "codemirror_mode": {
    "name": "ipython",
    "version": 3
   },
   "file_extension": ".py",
   "mimetype": "text/x-python",
   "name": "python",
   "nbconvert_exporter": "python",
   "pygments_lexer": "ipython3",
   "version": "3.7.0"
  }
 },
 "nbformat": 4,
 "nbformat_minor": 2
}
